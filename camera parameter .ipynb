{
 "cells": [
  {
   "cell_type": "code",
   "execution_count": 1,
   "id": "57c35455-a0b2-46bf-8efe-68766ffe8923",
   "metadata": {},
   "outputs": [],
   "source": [
    "import os\n",
    "import csv\n",
    "import json\n",
    "from PIL import Image\n",
    "from PIL.ExifTags import TAGS\n",
    "\n",
    "def get_camera_parameters(image_path):  #defining getcamera parameter  function  \n",
    "    image = Image.open(image_path)     #read the image\n",
    "    exif_data = image._getexif()    #getting exif data\n",
    "    if not exif_data:\n",
    "        return None\n",
    "#camera params dictionary \n",
    "    camera_params = {}\n",
    "    for tag, value in exif_data.items():\n",
    "        tag_name = TAGS.get(tag, tag)\n",
    "        if isinstance(value, bytes):\n",
    "            value = value.decode(errors='ignore')  # Decode bytes to string\n",
    "        camera_params[tag_name] = value\n",
    "\n",
    "    return camera_params\n",
    "\n",
    "def save_to_csv(data, csv_file):\n",
    "    with open(csv_file, 'w', newline='',encoding='utf-8') as file:\n",
    "        writer = csv.DictWriter(file, fieldnames=data[0].keys())\n",
    "        writer.writeheader()\n",
    "        writer.writerows(data)\n",
    "\n",
    "\n",
    "\n",
    "def process_images(folder_path):\n",
    "    camera_params_list = []\n",
    "    for filename in os.listdir(folder_path):\n",
    "        if filename.lower().endswith(('.png', '.jpg', '.jpeg')):\n",
    "            image_path = os.path.join(folder_path, filename)\n",
    "            camera_params = get_camera_parameters(image_path)\n",
    "            if camera_params:\n",
    "                camera_params['filename'] = filename\n",
    "                camera_params_list.append(camera_params)\n",
    "\n",
    "    if camera_params_list:\n",
    "        save_to_csv(camera_params_list, 'camera_parameters.csv')\n",
    "        \n",
    "\n",
    "# the path to your folder containing images\n",
    "process_images('C:/Users/rajuv/Desktop/camera parameter/input images')\n"
   ]
  },
  {
   "cell_type": "code",
   "execution_count": 2,
   "id": "65c20ab4-0630-4a12-aa5f-5966d0b5fe14",
   "metadata": {},
   "outputs": [
    {
     "name": "stdout",
     "output_type": "stream",
     "text": [
      "CSV file has been converted to JSON and saved at camera_parameters.json\n"
     ]
    }
   ],
   "source": [
    "import pandas as pd\n",
    "\n",
    "# Define file paths\n",
    "csv_file_path = 'camera_parameters.csv'\n",
    "json_file_path = 'camera_parameters.json'\n",
    "\n",
    "# Read the CSV file\n",
    "df = pd.read_csv(csv_file_path)\n",
    "\n",
    "# Convert to JSON and save\n",
    "df.to_json(json_file_path, orient='records', lines=True)\n",
    "\n",
    "print(f\"CSV file has been converted to JSON and saved at {json_file_path}\")\n"
   ]
  },
  {
   "cell_type": "code",
   "execution_count": null,
   "id": "4cc8a1e6-ff5c-432c-b223-8973c98e0a34",
   "metadata": {},
   "outputs": [],
   "source": []
  }
 ],
 "metadata": {
  "kernelspec": {
   "display_name": "Python 3 (ipykernel)",
   "language": "python",
   "name": "python3"
  },
  "language_info": {
   "codemirror_mode": {
    "name": "ipython",
    "version": 3
   },
   "file_extension": ".py",
   "mimetype": "text/x-python",
   "name": "python",
   "nbconvert_exporter": "python",
   "pygments_lexer": "ipython3",
   "version": "3.11.7"
  }
 },
 "nbformat": 4,
 "nbformat_minor": 5
}
